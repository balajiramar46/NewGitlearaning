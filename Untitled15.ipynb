{
 "cells": [
  {
   "cell_type": "code",
   "execution_count": 13,
   "id": "7fba8eef",
   "metadata": {},
   "outputs": [],
   "source": [
    "mytuple=(1,2,3,4.5,\"india\")"
   ]
  },
  {
   "cell_type": "code",
   "execution_count": 14,
   "id": "870b1d8d",
   "metadata": {},
   "outputs": [
    {
     "data": {
      "text/plain": [
       "tuple"
      ]
     },
     "execution_count": 14,
     "metadata": {},
     "output_type": "execute_result"
    }
   ],
   "source": [
    "type(my_tuple)"
   ]
  },
  {
   "cell_type": "code",
   "execution_count": 6,
   "id": "69463141",
   "metadata": {},
   "outputs": [
    {
     "data": {
      "text/plain": [
       "set"
      ]
     },
     "execution_count": 6,
     "metadata": {},
     "output_type": "execute_result"
    }
   ],
   "source": [
    "type(mytuple)"
   ]
  },
  {
   "cell_type": "code",
   "execution_count": 7,
   "id": "2b2ee977",
   "metadata": {},
   "outputs": [
    {
     "data": {
      "text/plain": [
       "set"
      ]
     },
     "execution_count": 7,
     "metadata": {},
     "output_type": "execute_result"
    }
   ],
   "source": [
    "type(mytuple)"
   ]
  },
  {
   "cell_type": "code",
   "execution_count": 15,
   "id": "d44c6b53",
   "metadata": {},
   "outputs": [
    {
     "data": {
      "text/plain": [
       "(1, 2, 3, 4.5, 'india', 10, 80)"
      ]
     },
     "execution_count": 15,
     "metadata": {},
     "output_type": "execute_result"
    }
   ],
   "source": [
    "mytuple+(10,80)"
   ]
  },
  {
   "cell_type": "code",
   "execution_count": 17,
   "id": "b803a664",
   "metadata": {},
   "outputs": [],
   "source": [
    "mydict={\"Name\":\"HAMI collections\",\"location\":\"chennai\",\"Founder\":\"MANIMARAN\", \"revenue\":30000}"
   ]
  },
  {
   "cell_type": "code",
   "execution_count": 18,
   "id": "34a4ff7f",
   "metadata": {},
   "outputs": [
    {
     "data": {
      "text/plain": [
       "dict"
      ]
     },
     "execution_count": 18,
     "metadata": {},
     "output_type": "execute_result"
    }
   ],
   "source": [
    "type(mydict)"
   ]
  },
  {
   "cell_type": "code",
   "execution_count": 19,
   "id": "e8a74e28",
   "metadata": {},
   "outputs": [
    {
     "data": {
      "text/plain": [
       "dict_values(['HAMI collections', 'chennai', 'MANIMARAN', 30000])"
      ]
     },
     "execution_count": 19,
     "metadata": {},
     "output_type": "execute_result"
    }
   ],
   "source": [
    "mydict.values()"
   ]
  },
  {
   "cell_type": "code",
   "execution_count": 20,
   "id": "9d9bc05d",
   "metadata": {},
   "outputs": [
    {
     "data": {
      "text/plain": [
       "dict_keys(['Name', 'location', 'Founder', 'revenue'])"
      ]
     },
     "execution_count": 20,
     "metadata": {},
     "output_type": "execute_result"
    }
   ],
   "source": [
    "mydict.keys()"
   ]
  },
  {
   "cell_type": "markdown",
   "id": "b5d497b6",
   "metadata": {},
   "source": [
    "mydict[1]"
   ]
  },
  {
   "cell_type": "code",
   "execution_count": 23,
   "id": "0820bd25",
   "metadata": {},
   "outputs": [
    {
     "data": {
      "text/plain": [
       "'HAMI collections'"
      ]
     },
     "execution_count": 23,
     "metadata": {},
     "output_type": "execute_result"
    }
   ],
   "source": [
    "mydict[\"Name\"]"
   ]
  },
  {
   "cell_type": "code",
   "execution_count": 24,
   "id": "99d3263b",
   "metadata": {},
   "outputs": [],
   "source": [
    "mydict[\"Name\"]=\"HAMIPU\""
   ]
  },
  {
   "cell_type": "code",
   "execution_count": 25,
   "id": "e74fe999",
   "metadata": {},
   "outputs": [
    {
     "data": {
      "text/plain": [
       "{'Name': 'HAMIPU',\n",
       " 'location': 'chennai',\n",
       " 'Founder': 'MANIMARAN',\n",
       " 'revenue': 30000}"
      ]
     },
     "execution_count": 25,
     "metadata": {},
     "output_type": "execute_result"
    }
   ],
   "source": [
    "mydict"
   ]
  },
  {
   "cell_type": "code",
   "execution_count": 26,
   "id": "2e9c2243",
   "metadata": {},
   "outputs": [],
   "source": [
    "# returning sum of even numbers in a list\n"
   ]
  },
  {
   "cell_type": "code",
   "execution_count": 28,
   "id": "1e43a37c",
   "metadata": {},
   "outputs": [],
   "source": [
    "m=[2,4,5,6,8,2]"
   ]
  },
  {
   "cell_type": "code",
   "execution_count": 29,
   "id": "78b1838a",
   "metadata": {},
   "outputs": [],
   "source": [
    "evensum=0"
   ]
  },
  {
   "cell_type": "code",
   "execution_count": 52,
   "id": "93a8aeac",
   "metadata": {},
   "outputs": [
    {
     "ename": "IndentationError",
     "evalue": "expected an indented block after 'for' statement on line 1 (751401074.py, line 2)",
     "output_type": "error",
     "traceback": [
      "\u001b[1;36m  Cell \u001b[1;32mIn[52], line 2\u001b[1;36m\u001b[0m\n\u001b[1;33m    if (num%2)==0:\u001b[0m\n\u001b[1;37m    ^\u001b[0m\n\u001b[1;31mIndentationError\u001b[0m\u001b[1;31m:\u001b[0m expected an indented block after 'for' statement on line 1\n"
     ]
    }
   ],
   "source": [
    "for num in m:\n",
    "if (num%2)==0:\n",
    "    evensum += num"
   ]
  },
  {
   "cell_type": "code",
   "execution_count": null,
   "id": "9f35cb26",
   "metadata": {},
   "outputs": [],
   "source": []
  }
 ],
 "metadata": {
  "kernelspec": {
   "display_name": "Python 3 (ipykernel)",
   "language": "python",
   "name": "python3"
  },
  "language_info": {
   "codemirror_mode": {
    "name": "ipython",
    "version": 3
   },
   "file_extension": ".py",
   "mimetype": "text/x-python",
   "name": "python",
   "nbconvert_exporter": "python",
   "pygments_lexer": "ipython3",
   "version": "3.10.9"
  }
 },
 "nbformat": 4,
 "nbformat_minor": 5
}
